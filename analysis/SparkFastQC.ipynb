{
  "cells": [
    {
      "cell_type": "code",
      "execution_count": null,
      "metadata": {
        "id": "4Bt28pl4DnME"
      },
      "outputs": [],
      "source": [
        "!pip install \"matplotlib>=3.7.1\"\n",
        "!pip install \"pandas>=1.5.3\"\n",
        "!pip install \"numpy>=1.25.2\""
      ]
    },
    {
      "cell_type": "code",
      "execution_count": null,
      "metadata": {
        "id": "JDOCQ6qPDoN7"
      },
      "outputs": [],
      "source": [
        "import json\n",
        "import matplotlib.pyplot as plt\n",
        "import matplotlib.ticker as mtick\n",
        "import pandas as pd\n",
        "import numpy as np\n",
        "\n",
        "f = open('path to result.json')\n",
        "data = json.load(f)"
      ]
    },
    {
      "cell_type": "markdown",
      "metadata": {
        "id": "NWmgIeOZET3S"
      },
      "source": [
        "**1. Basic Statistic**"
      ]
    },
    {
      "cell_type": "code",
      "execution_count": null,
      "metadata": {
        "id": "YSmOBffCD7-1"
      },
      "outputs": [],
      "source": [
        "print(\"Total Sequence:\",data['basic']['total_seq'])\n",
        "print(\"Total Number of Bases:\",data['basic']['total_bases'])\n",
        "print(\"Sequence Length:\",data['basic']['min_len'],'-',data['basic']['max_len'])"
      ]
    },
    {
      "cell_type": "markdown",
      "metadata": {
        "id": "mGkjDh82EV5A"
      },
      "source": [
        "**2. Sequence Length Distribution**"
      ]
    },
    {
      "cell_type": "code",
      "execution_count": null,
      "metadata": {
        "id": "TAkGxMEdEXUY"
      },
      "outputs": [],
      "source": [
        "df_len_dist=pd.DataFrame.from_dict(data['basic']['len_dist']).rename(columns={\"count\": \"Sequnce Length\"}).set_index(\"length\").sort_index()\n",
        "df_len_dist.plot()\n",
        "plt.title(\"Distribution of sequnce lengths over all sequences\")\n",
        "plt.xlabel(\"Sequence Length (bp)\")\n",
        "plt.show()"
      ]
    },
    {
      "cell_type": "code",
      "execution_count": null,
      "metadata": {
        "id": "_joQajpDEYwY"
      },
      "outputs": [],
      "source": [
        "if any(df_len_dist.index==0):\n",
        "  print('\\033[91m'+\"Failure: at least one of the sequences have zero length\")\n",
        "elif len(np.unique(df_len_dist))!=1:\n",
        "  print('\\033[93m'+\"Warning: all sequences are not the same length\")\n",
        "else:\n",
        "  print('\\033[92m'+\"Passed\")"
      ]
    },
    {
      "cell_type": "markdown",
      "metadata": {
        "id": "EjEfN5tJEY_o"
      },
      "source": [
        "**3. Per Sequence Quality Scores**"
      ]
    },
    {
      "cell_type": "code",
      "execution_count": null,
      "metadata": {
        "id": "XrLQ4BSoEeo5"
      },
      "outputs": [],
      "source": [
        "df_score_over_seq=pd.DataFrame.from_dict(data['qual']['PerSeq']).rename(columns={\"count\": \"Average Quality per read\"}).set_index(\"quality\").sort_index()\n",
        "df_score_over_seq.plot()\n",
        "plt.title(\"Quality score distribution over all sequences\")\n",
        "plt.xlabel(\"\")\n",
        "plt.show()"
      ]
    },
    {
      "cell_type": "code",
      "execution_count": null,
      "metadata": {
        "id": "28RqrK5bEgMB"
      },
      "outputs": [],
      "source": [
        "if any(df_score_over_seq.idxmax()<20):\n",
        "  print('\\033[91m'+\"Failure: the most frequently observed mean quality is below 20\")\n",
        "elif any(df_score_over_seq.idxmax()<27):\n",
        "  print('\\033[93m'+\"Warning: the most frequently observed mean quality is below 27\")\n",
        "else:\n",
        "  print('\\033[92m'+\"Passed\")"
      ]
    },
    {
      "cell_type": "markdown",
      "metadata": {
        "id": "ojqerHosEhfa"
      },
      "source": [
        "**4. Per base sequence quality**"
      ]
    },
    {
      "cell_type": "code",
      "execution_count": null,
      "metadata": {
        "id": "3SGkxU8EEjEq"
      },
      "outputs": [],
      "source": [
        "fig, axes2 = plt.subplots(figsize=(20,6))\n",
        "axes2.bxp(sorted(data['qual']['PerBase'], key=lambda d: d['label']) ,showfliers=False, showmeans=True)\n",
        "plt.title(\"Quality scores across all bases\")\n",
        "plt.xlabel(\"Position in read (bp)\")\n",
        "plt.show()"
      ]
    },
    {
      "cell_type": "code",
      "execution_count": null,
      "metadata": {
        "id": "a4VLAnbUEk2y"
      },
      "outputs": [],
      "source": [
        "if (any(x['q1']<5 for x in data['qual']['PerBase']) or any(x['med']<20 for x in data['qual']['PerBase'])):\n",
        "  print('\\033[91m'+\"Failure: the lower quartile for any base is less than 5 or if the median for any base is less than 20\")\n",
        "elif (any(x['q1']<10 for x in data['qual']['PerBase']) or any(x['med']<25 for x in data['qual']['PerBase'])):\n",
        "  print('\\033[93m'+\"Warning: the lower quartile for any base is less than 10, or if the median for any base is less than 25\")\n",
        "else:\n",
        "  print('\\033[92m'+\"Passed\")"
      ]
    },
    {
      "cell_type": "markdown",
      "metadata": {
        "id": "2KjuA9W5EmSi"
      },
      "source": [
        "**5. Per Base Sequence Content**"
      ]
    },
    {
      "cell_type": "code",
      "execution_count": null,
      "metadata": {
        "id": "K8uri2eREnsS"
      },
      "outputs": [],
      "source": [
        "df_content=pd.DataFrame.from_dict(data['seq']['content']).set_index(\"read\").sort_index()"
      ]
    },
    {
      "cell_type": "code",
      "execution_count": null,
      "metadata": {
        "id": "iUkoWYaIEo2a"
      },
      "outputs": [],
      "source": [
        "df_content_ATCG=df_content[['A','T','C','G']]\n",
        "ax = df_content_ATCG.plot()\n",
        "ax.yaxis.set_major_formatter(mtick.PercentFormatter(1.0))\n",
        "plt.title(\"sequence content across all bases\")\n",
        "plt.xlabel(\"Position in read (bp)\")\n",
        "plt.show()"
      ]
    },
    {
      "cell_type": "code",
      "execution_count": null,
      "metadata": {
        "id": "qeNX9ClpEpyL"
      },
      "outputs": [],
      "source": [
        "diff=df_content_ATCG.max(axis=1)-df_content_ATCG.min(axis=1)\n",
        "if (diff > 0.2).any():\n",
        "  print('\\033[91m'+\"Failure: difference between A and T, or G and C is greater than 20% in at least one position\")\n",
        "elif (diff > 0.1).any():\n",
        "  print('\\033[93m'+\"Warning: difference between A and T, or G and C is greater than 20% in at least one position\")\n",
        "else:\n",
        "  print('\\033[92m'+\"Passed\")"
      ]
    },
    {
      "cell_type": "markdown",
      "metadata": {
        "id": "55ue9ZK0Ere6"
      },
      "source": [
        "**6. Per Base N Content**"
      ]
    },
    {
      "cell_type": "code",
      "execution_count": null,
      "metadata": {
        "id": "v70EnhEHEszz"
      },
      "outputs": [],
      "source": [
        "df_content_N=df_content[['N']]\n",
        "ax = df_content_N.plot()\n",
        "ax.yaxis.set_major_formatter(mtick.PercentFormatter(1.0))\n",
        "plt.title(\"N content across all bases\")\n",
        "plt.xlabel(\"\")\n",
        "plt.show()"
      ]
    },
    {
      "cell_type": "code",
      "execution_count": null,
      "metadata": {
        "id": "33W0qR2IEuAq"
      },
      "outputs": [],
      "source": [
        "if (df_content_N.max() > 0.2).any():\n",
        "  print('\\033[91m'+\"Failure: at least one position shows an N content of >20%\")\n",
        "elif (df_content_N.max() > 0.05).any():\n",
        "  print( '\\033[93m'+\"Warning: at least one position shows an N content of >5%\")\n",
        "else:\n",
        "  print('\\033[92m'+\"Passed\")"
      ]
    },
    {
      "cell_type": "markdown",
      "metadata": {
        "id": "APXcwmd2EvSC"
      },
      "source": [
        "**7. Overrepresented sequences**"
      ]
    },
    {
      "cell_type": "code",
      "execution_count": null,
      "metadata": {
        "id": "EmS7NFepEwhI"
      },
      "outputs": [],
      "source": [
        "pd.set_option('display.max_colwidth', None)\n",
        "pd.DataFrame.from_dict(data['seq']['count'])[['sequence','count','percentage of total']].style.format({'percentage of total': '{:,.2%}'.format,}).hide()"
      ]
    },
    {
      "cell_type": "code",
      "execution_count": null,
      "metadata": {
        "id": "DJWOEJIlEyPz"
      },
      "outputs": [],
      "source": [
        "if data['seq']['count'][0]['percentage of total']>0.01:\n",
        "    print('\\033[91m'+\"Failure: at least one sequence is found to represent more than 1% of the total\")\n",
        "elif data['seq']['count'][0]['percentage of total']>0.001:\n",
        "  print( '\\033[93m'+\"Warning: at least one sequence is found to represent more than 0.1% of the total\")\n",
        "else:\n",
        "  print('\\033[92m'+\"Passed\")"
      ]
    }
  ],
  "metadata": {
    "colab": {
      "provenance": []
    },
    "kernelspec": {
      "display_name": "Python 3",
      "name": "python3"
    },
    "language_info": {
      "name": "python"
    }
  },
  "nbformat": 4,
  "nbformat_minor": 0
}
